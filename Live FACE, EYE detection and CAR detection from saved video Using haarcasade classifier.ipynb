{
 "cells": [
  {
   "cell_type": "code",
   "execution_count": null,
   "metadata": {},
   "outputs": [],
   "source": [
    "import cv2\n",
    "import numpy as np"
   ]
  },
  {
   "cell_type": "code",
   "execution_count": null,
   "metadata": {},
   "outputs": [],
   "source": [
    "face_classifier = cv2.CascadeClassifier('D://TUTORIAL//Object_Detection_Udemy//MasterOpenCV-master//Haarcascades//haarcascade_frontalface_default.xml')\n",
    "eye_classifier = cv2.CascadeClassifier('D://TUTORIAL//Object_Detection_Udemy//MasterOpenCV-master//Haarcascades//haarcascade_eye.xml')\n",
    "car_classifier = cv2.CascadeClassifier('D://TUTORIAL//Object_Detection_Udemy//MasterOpenCV-master//Haarcascades//haarcascade_car.xml')"
   ]
  },
  {
   "cell_type": "code",
   "execution_count": null,
   "metadata": {},
   "outputs": [],
   "source": [
    "# Face Detection\n",
    "\n",
    "cap = cv2.VideoCapture(0)\n",
    "\n",
    "while True:\n",
    "    ret, frame = cap.read()\n",
    "    #frame = cv2.cvtColor(frame, cv2.COLOR_BGR2GRAY)\n",
    "    faces = face_classifier.detectMultiScale(frame,1.3,5)\n",
    "    \n",
    "    for x,y,w,h in faces:\n",
    "        cv2.rectangle(frame, (x,y),(x+w,y+h),(0,255,0),3)\n",
    "        cv2.imshow('FACE', frame)\n",
    "        if cv2.waitKey(1) & 0xFF == ord('q'):\n",
    "            break\n",
    "cap.release()\n",
    "cv2.destroyAllWindows()"
   ]
  },
  {
   "cell_type": "code",
   "execution_count": null,
   "metadata": {},
   "outputs": [],
   "source": [
    "# Eye Detection\n",
    "\n",
    "cap1 = cv2.VideoCapture(0)\n",
    "\n",
    "while True:\n",
    "    ret, frame1 = cap1.read()\n",
    "    frame1 = cv2.cvtColor(frame1, cv2.COLOR_BGR2GRAY)\n",
    "    eyes = eye_classifier.detectMultiScale(frame1,1.3,5)\n",
    "    \n",
    "    for x,y,w,h in eyes:\n",
    "        cv2.rectangle(frame1,(x,y),(x+w,y+h),(0,255,0),3)\n",
    "        cv2.imshow('Eyes',frame1)\n",
    "        \n",
    "        if cv2.waitKey(1) & 0xFF == ord('q'):\n",
    "            break\n",
    "cap.release()\n",
    "cv2.destroyAllWindows()"
   ]
  },
  {
   "cell_type": "code",
   "execution_count": null,
   "metadata": {},
   "outputs": [],
   "source": [
    "# Car detection from presaved video\n",
    "\n",
    "cap2 = cv2.VideoCapture('D://TUTORIAL//Object_Detection_Udemy//MasterOpenCV-master//images//cars.avi')\n",
    "\n",
    "while True:\n",
    "    ret, frame2 = cap2.read()\n",
    "    cars = car_classifier.detectMultiScale(frame2,1.3,5)\n",
    "    \n",
    "    for x,y,w,h in cars:\n",
    "        cv2.rectangle(frame2,(x,y),(x+w,y+h), (0,255,0),3)\n",
    "        cv2.imshow('Cars',frame2)\n",
    "        \n",
    "        if cv2.waitKey(1) & 0xFF == ord('q'):\n",
    "            break\n",
    "cv2.destroyAllWindows()"
   ]
  },
  {
   "cell_type": "code",
   "execution_count": null,
   "metadata": {},
   "outputs": [],
   "source": []
  }
 ],
 "metadata": {
  "kernelspec": {
   "display_name": "Python 3",
   "language": "python",
   "name": "python3"
  },
  "language_info": {
   "codemirror_mode": {
    "name": "ipython",
    "version": 3
   },
   "file_extension": ".py",
   "mimetype": "text/x-python",
   "name": "python",
   "nbconvert_exporter": "python",
   "pygments_lexer": "ipython3",
   "version": "3.7.3"
  }
 },
 "nbformat": 4,
 "nbformat_minor": 2
}

{
 "cells": [
  {
   "cell_type": "markdown",
   "metadata": {},
   "source": [
    "# MobileNet SSD Object Detection (Static Image)"
   ]
  },
  {
   "cell_type": "code",
   "execution_count": null,
   "metadata": {},
   "outputs": [],
   "source": [
    "# import libraries\n",
    "import numpy as np\n",
    "import cv2\n",
    "import matplotlib.pyplot as plt"
   ]
  },
  {
   "cell_type": "code",
   "execution_count": null,
   "metadata": {},
   "outputs": [],
   "source": [
    "# Reading the image and converting it to RBG channel from BGR channel\n",
    "img_to_detect = cv2.imread('D://TUTORIAL//Object_Detection_Udemy//source code//images//testing//scene5.jpg')\n",
    "img_to_detect = cv2.cvtColor(img_to_detect,cv2.COLOR_BGR2RGB)"
   ]
  },
  {
   "cell_type": "code",
   "execution_count": null,
   "metadata": {},
   "outputs": [],
   "source": [
    "# Getting the height and width for future use in creating the bounding box\n",
    "# resizing to 300,300 for mobilenet ssd\n",
    "# converting the input image to blob, which aim at detecting the regions in digital images based on properties.\n",
    "# 0.007843 is default value\n",
    "# resized shape and mean of 255\n",
    "# class labels (21)\n",
    "img_height = img_to_detect.shape[0]\n",
    "img_width = img_to_detect.shape[1]\n",
    "resized_img_to_detect = cv2.resize(img_to_detect,(300,300))\n",
    "img_blob = cv2.dnn.blobFromImage(resized_img_to_detect,0.007843,(300,300),127.5)\n",
    "class_labels = [\"background\", \"aeroplane\", \"bicycle\", \"bird\", \"boat\",\"bottle\", \"bus\", \"car\", \"cat\", \"chair\", \"cow\", \"diningtable\",\"dog\", \"horse\", \"motorbike\", \"person\", \"pottedplant\", \"sheep\",\"sofa\", \"train\", \"tvmonitor\"]"
   ]
  },
  {
   "cell_type": "code",
   "execution_count": null,
   "metadata": {},
   "outputs": [],
   "source": [
    "# loading the model from caffe framework though openCV\n",
    "mobilenetssd = cv2.dnn.readNetFromCaffe('D://TUTORIAL//Object_Detection_Udemy//source code//dataset//mobilenetssd.prototext', 'D://TUTORIAL//Object_Detection_Udemy//source code//dataset//mobilenetssd.caffemodel')"
   ]
  },
  {
   "cell_type": "code",
   "execution_count": null,
   "metadata": {},
   "outputs": [],
   "source": [
    "# just like model.fit\n",
    "# to get number of detections in the image, and other details from the image such as confidence value, class index etc\n",
    "# number of detections\n",
    "mobilenetssd.setInput(img_blob)\n",
    "obj_detections = mobilenetssd.forward()\n",
    "no_of_detections = obj_detections.shape[2]"
   ]
  },
  {
   "cell_type": "code",
   "execution_count": null,
   "metadata": {},
   "outputs": [],
   "source": [
    "no_of_detections"
   ]
  },
  {
   "cell_type": "code",
   "execution_count": null,
   "metadata": {},
   "outputs": [],
   "source": [
    "# for the number of detection for loop will run,\n",
    "# [0,0,index,1] - 0,0 i think it is axises, index is the number of detections, 2 indicates the prediction confidence, 1 indicates\n",
    "# class index, 3:7 indicates the boundary box locations \n",
    "\n",
    "for index in np.arange(0, no_of_detections):\n",
    "    prediction_confidence = obj_detections[0, 0, index, 2]\n",
    "    # take only predictions with confidence more than 20%\n",
    "    if prediction_confidence > 0.20:\n",
    "        \n",
    "        #get the predicted label\n",
    "        predicted_class_index = int(obj_detections[0, 0, index, 1])\n",
    "        predicted_class_label = class_labels[predicted_class_index] # getting the label\n",
    "        \n",
    "        #obtain the bounding box co-oridnates for actual image from resized image size\n",
    "        bounding_box = obj_detections[0, 0, index, 3:7] * np.array([img_width, img_height, img_width, img_height]) # converting to original size of the image\n",
    "        (start_x_pt, start_y_pt, end_x_pt, end_y_pt) = bounding_box.astype(\"int\") # values \n",
    "        \n",
    "        # print the prediction in console\n",
    "        predicted_class_label = \"{}: {:.2f}%\".format(class_labels[predicted_class_index], prediction_confidence * 100)\n",
    "        print(\"predicted object {}: {}\".format(index+1, predicted_class_label))\n",
    "        \n",
    "        # draw rectangle and text in the image\n",
    "        cv2.rectangle(img_to_detect, (start_x_pt, start_y_pt), (end_x_pt, end_y_pt), (0,255,0), 1)\n",
    "        cv2.putText(img_to_detect, predicted_class_label, (start_x_pt, start_y_pt-5), cv2.FONT_HERSHEY_SIMPLEX, 0.5, (0,255,0), 2)\n",
    "\n",
    "plt.imshow(img_to_detect)\n",
    "\n",
    "    "
   ]
  },
  {
   "cell_type": "markdown",
   "metadata": {},
   "source": [
    "# # MobileNet SSD Object Detection (web cam)"
   ]
  },
  {
   "cell_type": "code",
   "execution_count": null,
   "metadata": {},
   "outputs": [],
   "source": [
    "import numpy as np\n",
    "import matplotlib.pyplot as plt\n",
    "import cv2"
   ]
  },
  {
   "cell_type": "code",
   "execution_count": null,
   "metadata": {},
   "outputs": [],
   "source": [
    "webcam_video_stream = cv2.VideoCapture(0)\n",
    "#create a while loop \n",
    "while True:\n",
    "    #get the current frame from video stream\n",
    "    ret,current_frame = webcam_video_stream.read()\n",
    "    #use the video current frame instead of image\n",
    "    img_to_detect = current_frame\n",
    "    img_height = img_to_detect.shape[0]\n",
    "    img_width = img_to_detect.shape[1]\n",
    "    # resize to match input size, convert to blob to pass into model\n",
    "    resized_img_to_detect = cv2.resize(img_to_detect,(300,300))\n",
    "    img_blob = cv2.dnn.blobFromImage(resized_img_to_detect,0.007843,(300,300),127.5)\n",
    "    #recommended scale factor is 0.007843, width,height of blob is 300,300, mean of 255 is 127.5, \n",
    "\n",
    "    # set of 21 class labels in alphabetical order (background + rest of 20 classes)\n",
    "    class_labels = [\"background\", \"aeroplane\", \"bicycle\", \"bird\", \"boat\",\"bottle\", \"bus\", \"car\", \"cat\", \"chair\", \"cow\", \"diningtable\",\"dog\", \"horse\", \"motorbike\", \"person\", \"pottedplant\", \"sheep\",\"sofa\", \"train\", \"tvmonitor\"]\n",
    "    \n",
    "    # Loading pretrained model from prototext and caffemodel files\n",
    "    # input preprocessed blob into model and pass through the model\n",
    "    # obtain the detection predictions by the model using forward() method\n",
    "    mobilenetssd = cv2.dnn.readNetFromCaffe('D://TUTORIAL//Object_Detection_Udemy//source code//dataset//mobilenetssd.prototext', 'D://TUTORIAL//Object_Detection_Udemy//source code//dataset//mobilenetssd.caffemodel')\n",
    "    mobilenetssd.setInput(img_blob)\n",
    "    obj_detections = mobilenetssd.forward()\n",
    "    # returned obj_detections[0, 0, index, 1] , 1 => will have the prediction class index\n",
    "    # 2 => will have confidence, 3 to 7 => will have the bounding box co-ordinates\n",
    "    no_of_detections = obj_detections.shape[2]\n",
    "    \n",
    "    # loop over the detections\n",
    "    for index in np.arange(0, no_of_detections):\n",
    "        prediction_confidence = obj_detections[0, 0, index, 2]\n",
    "        # take only predictions with confidence more than 20%\n",
    "        if prediction_confidence > 0.20:\n",
    "            \n",
    "            #get the predicted label\n",
    "            predicted_class_index = int(obj_detections[0, 0, index, 1])\n",
    "            predicted_class_label = class_labels[predicted_class_index]\n",
    "            \n",
    "            #obtain the bounding box co-oridnates for actual image from resized image size\n",
    "            bounding_box = obj_detections[0, 0, index, 3:7] * np.array([img_width, img_height, img_width, img_height])\n",
    "            (start_x_pt, start_y_pt, end_x_pt, end_y_pt) = bounding_box.astype(\"int\")\n",
    "            \n",
    "            # print the prediction in console\n",
    "            predicted_class_label = \"{}: {:.2f}%\".format(class_labels[predicted_class_index], prediction_confidence * 100)\n",
    "            print(\"predicted object {}: {}\".format(index+1, predicted_class_label))\n",
    "            \n",
    "            # draw rectangle and text in the image\n",
    "            cv2.rectangle(img_to_detect, (start_x_pt, start_y_pt), (end_x_pt, end_y_pt), (0,255,0), 2)\n",
    "            cv2.putText(img_to_detect, predicted_class_label, (start_x_pt, start_y_pt-5), cv2.FONT_HERSHEY_SIMPLEX, 0.5, (0,255,0), 1)\n",
    "    \n",
    "    \n",
    "    plt.imshow(img_to_detect)\n",
    "    \n",
    "    #terminate while loop if 'q' key is pressed\n",
    "    if cv2.waitKey(1) & 0xFF == ord('q'):\n",
    "        break\n",
    "\n",
    "#releasing the stream and the camera\n",
    "#close all opencv windows\n",
    "webcam_video_stream.release()\n",
    "cv2.destroyAllWindows()\n"
   ]
  },
  {
   "cell_type": "code",
   "execution_count": null,
   "metadata": {},
   "outputs": [],
   "source": []
  }
 ],
 "metadata": {
  "kernelspec": {
   "display_name": "Python 3",
   "language": "python",
   "name": "python3"
  },
  "language_info": {
   "codemirror_mode": {
    "name": "ipython",
    "version": 3
   },
   "file_extension": ".py",
   "mimetype": "text/x-python",
   "name": "python",
   "nbconvert_exporter": "python",
   "pygments_lexer": "ipython3",
   "version": "3.7.3"
  }
 },
 "nbformat": 4,
 "nbformat_minor": 2
}
